{
 "cells": [
  {
   "cell_type": "code",
   "execution_count": 1,
   "id": "fd1d6868",
   "metadata": {},
   "outputs": [],
   "source": [
    "#import necessary library \n",
    "import pandas as pd\n",
    "import numpy as np\n",
    "from scipy import stats\n",
    "from scipy.stats import norm"
   ]
  },
  {
   "attachments": {},
   "cell_type": "markdown",
   "id": "a4c1123a",
   "metadata": {},
   "source": [
    "<h3> problem statment</h3>\n",
    "<h5>     A F&B manager wants to determine whether there is any significant difference in the diameter of the cutlet between two units. A randomly selected sample of cutlets was collected from both units and measured? Analyze the data and draw inferences at 5% significance level. Please state the assumptions and tests that you carried out to check validity of the assumptions.<h5>\n",
    "    \n",
    "    <h3>Assumption</h3>\n",
    "    <h5>Setting H0 and H1\n",
    "<b>µ1 is the mean for unit 1<b>\n",
    "    <br>\n",
    "    <b>µ2 is the mean for unit 2</b><br>\n",
    "H0 : µ1= µ 2 (µ 1- µ 2=0) there is no significant difference <br>\n",
    "H1: µ 1 ≠ µ 2(µ 1- µ 2≠0) there is a significant difference<br>\n",
    "<pre>Alpha is α= 0.05\n",
    "Critical value is  Z=1.645\n",
    "Find the var1 and var2 from the sample given \n",
    "σ1=0.083179\n",
    "σ2=0.117924\n",
    "<pre>\n",
    "\n",
    "    </h5>"
   ]
  },
  {
   "cell_type": "code",
   "execution_count": 4,
   "id": "13383c0b",
   "metadata": {},
   "outputs": [],
   "source": [
    "#load the dataset\n",
    "df1=pd.read_csv('G:\\\\Data Science\\\\Assignment\\\\03\\\\Cutlets.csv')"
   ]
  },
  {
   "cell_type": "code",
   "execution_count": 7,
   "id": "53bda641",
   "metadata": {},
   "outputs": [
    {
     "name": "stdout",
     "output_type": "stream",
     "text": [
      "0     6.8090\n",
      "1     6.4376\n",
      "2     6.9157\n",
      "3     7.3012\n",
      "4     7.4488\n",
      "5     7.3871\n",
      "6     6.8755\n",
      "7     7.0621\n",
      "8     6.6840\n",
      "9     6.8236\n",
      "10    7.3930\n",
      "11    7.5169\n",
      "12    6.9246\n",
      "13    6.9256\n",
      "14    6.5797\n",
      "15    6.8394\n",
      "16    6.5970\n",
      "17    7.2705\n",
      "18    7.2828\n",
      "19    7.3495\n",
      "20    6.9438\n",
      "21    7.1560\n",
      "22    6.5341\n",
      "23    7.2854\n",
      "24    6.9952\n",
      "25    6.8568\n",
      "26    7.2163\n",
      "27    6.6801\n",
      "28    6.9431\n",
      "29    7.0852\n",
      "30    6.7794\n",
      "31    7.2783\n",
      "32    7.1561\n",
      "33    7.3943\n",
      "34    6.9405\n",
      "Name: Unit A, dtype: float64 0     6.7703\n",
      "1     7.5093\n",
      "2     6.7300\n",
      "3     6.7878\n",
      "4     7.1522\n",
      "5     6.8110\n",
      "6     7.2212\n",
      "7     6.6606\n",
      "8     7.2402\n",
      "9     7.0503\n",
      "10    6.8810\n",
      "11    7.4059\n",
      "12    6.7652\n",
      "13    6.0380\n",
      "14    7.1581\n",
      "15    7.0240\n",
      "16    6.6672\n",
      "17    7.4314\n",
      "18    7.3070\n",
      "19    6.7478\n",
      "20    6.8889\n",
      "21    7.4220\n",
      "22    6.5217\n",
      "23    7.1688\n",
      "24    6.7594\n",
      "25    6.9399\n",
      "26    7.0133\n",
      "27    6.9182\n",
      "28    6.3346\n",
      "29    7.5459\n",
      "30    7.0992\n",
      "31    7.1180\n",
      "32    6.6965\n",
      "33    6.5780\n",
      "34    7.3875\n",
      "Name: Unit B, dtype: float64\n"
     ]
    }
   ],
   "source": [
    "unitA,unitB=pd.Series(df1.iloc[:,0]),pd.Series(df1.iloc[:,1])\n",
    "print(unitA,unitB)"
   ]
  },
  {
   "cell_type": "code",
   "execution_count": 9,
   "id": "82ccec98",
   "metadata": {},
   "outputs": [
    {
     "name": "stdout",
     "output_type": "stream",
     "text": [
      "Ttest_indResult(statistic=0.7228688704678063, pvalue=0.47223947245995)\n"
     ]
    }
   ],
   "source": [
    "# 2-sample 2-tail ttest:   stats.ttest_ind(array1,array2)     # ind -> independent samples\n",
    "#do the z-two tail test to see if there is a significant different between 2 means or not\n",
    "test=stats.ttest_ind(unitA,unitB)\n",
    "print(test)"
   ]
  },
  {
   "cell_type": "code",
   "execution_count": 10,
   "id": "6fc1c558",
   "metadata": {},
   "outputs": [
    {
     "data": {
      "text/plain": [
       "0.7228688704678063"
      ]
     },
     "execution_count": 10,
     "metadata": {},
     "output_type": "execute_result"
    }
   ],
   "source": [
    "test[0]"
   ]
  },
  {
   "cell_type": "code",
   "execution_count": 11,
   "id": "8d6bafa0",
   "metadata": {},
   "outputs": [
    {
     "data": {
      "text/plain": [
       "0.47223947245995"
      ]
     },
     "execution_count": 11,
     "metadata": {},
     "output_type": "execute_result"
    }
   ],
   "source": [
    "test[1]"
   ]
  },
  {
   "cell_type": "markdown",
   "id": "d00f7011",
   "metadata": {},
   "source": [
    "<h3>Conclusion</h3>\n",
    "<h4><b>P-value is greater than Alpha 0.05 so we won't reject the null and will accept it<b></h4>"
   ]
  },
  {
   "cell_type": "markdown",
   "id": "642e3371",
   "metadata": {},
   "source": [
    "\n"
   ]
  },
  {
   "cell_type": "markdown",
   "id": "ad9753e7",
   "metadata": {},
   "source": [
    "<h3>Problem Statement<h3>\n",
    "<pre>A hospital wants to determine whether there is any difference in the average Turn Around Time (TAT) of reports of the laboratories on their preferred list. They collected a random sample and recorded TAT for reports of 4 laboratories. TAT is defined as sample collected to report dispatch.\n",
    "   \n",
    "  Analyze the data and determine whether there is any difference in average TAT among the different laboratories at 5% significance level.\n",
    "<pre>"
   ]
  },
  {
   "cell_type": "markdown",
   "id": "5dd820bf",
   "metadata": {},
   "source": [
    "<pre>Setting H0 and H1\n",
    "µ1 is the mean for lab1\n",
    "µ2 is the mean for lab2\n",
    "µ3 is the mean for lab3\n",
    "µ4 is the mean for lab4\n",
    "H0 : µ1= µ 2= µ 3 = µ 4  (µ 1- µ 2- µ 3 - µ 4 =0) there is no significant difference between all mean\n",
    "H1: µ 1 ≠ µ 2 =µ 3= µ 2 (µ 1- µ 2- µ 3- µ 4 ≠0) there is a significant difference at least one mean different \n",
    "Alpha is α= 0.05\n",
    "<pre>"
   ]
  },
  {
   "cell_type": "code",
   "execution_count": 18,
   "id": "6a6d8d39",
   "metadata": {},
   "outputs": [
    {
     "data": {
      "text/html": [
       "<div>\n",
       "<style scoped>\n",
       "    .dataframe tbody tr th:only-of-type {\n",
       "        vertical-align: middle;\n",
       "    }\n",
       "\n",
       "    .dataframe tbody tr th {\n",
       "        vertical-align: top;\n",
       "    }\n",
       "\n",
       "    .dataframe thead th {\n",
       "        text-align: right;\n",
       "    }\n",
       "</style>\n",
       "<table border=\"1\" class=\"dataframe\">\n",
       "  <thead>\n",
       "    <tr style=\"text-align: right;\">\n",
       "      <th></th>\n",
       "      <th>Laboratory 1</th>\n",
       "      <th>Laboratory 2</th>\n",
       "      <th>Laboratory 3</th>\n",
       "      <th>Laboratory 4</th>\n",
       "    </tr>\n",
       "  </thead>\n",
       "  <tbody>\n",
       "    <tr>\n",
       "      <th>0</th>\n",
       "      <td>185.35</td>\n",
       "      <td>165.53</td>\n",
       "      <td>176.70</td>\n",
       "      <td>166.13</td>\n",
       "    </tr>\n",
       "    <tr>\n",
       "      <th>1</th>\n",
       "      <td>170.49</td>\n",
       "      <td>185.91</td>\n",
       "      <td>198.45</td>\n",
       "      <td>160.79</td>\n",
       "    </tr>\n",
       "    <tr>\n",
       "      <th>2</th>\n",
       "      <td>192.77</td>\n",
       "      <td>194.92</td>\n",
       "      <td>201.23</td>\n",
       "      <td>185.18</td>\n",
       "    </tr>\n",
       "    <tr>\n",
       "      <th>3</th>\n",
       "      <td>177.33</td>\n",
       "      <td>183.00</td>\n",
       "      <td>199.61</td>\n",
       "      <td>176.42</td>\n",
       "    </tr>\n",
       "    <tr>\n",
       "      <th>4</th>\n",
       "      <td>193.41</td>\n",
       "      <td>169.57</td>\n",
       "      <td>204.63</td>\n",
       "      <td>152.60</td>\n",
       "    </tr>\n",
       "    <tr>\n",
       "      <th>...</th>\n",
       "      <td>...</td>\n",
       "      <td>...</td>\n",
       "      <td>...</td>\n",
       "      <td>...</td>\n",
       "    </tr>\n",
       "    <tr>\n",
       "      <th>115</th>\n",
       "      <td>178.49</td>\n",
       "      <td>170.66</td>\n",
       "      <td>193.80</td>\n",
       "      <td>172.68</td>\n",
       "    </tr>\n",
       "    <tr>\n",
       "      <th>116</th>\n",
       "      <td>176.08</td>\n",
       "      <td>183.98</td>\n",
       "      <td>215.25</td>\n",
       "      <td>177.64</td>\n",
       "    </tr>\n",
       "    <tr>\n",
       "      <th>117</th>\n",
       "      <td>202.48</td>\n",
       "      <td>174.54</td>\n",
       "      <td>203.99</td>\n",
       "      <td>170.27</td>\n",
       "    </tr>\n",
       "    <tr>\n",
       "      <th>118</th>\n",
       "      <td>182.40</td>\n",
       "      <td>197.18</td>\n",
       "      <td>194.52</td>\n",
       "      <td>150.87</td>\n",
       "    </tr>\n",
       "    <tr>\n",
       "      <th>119</th>\n",
       "      <td>182.09</td>\n",
       "      <td>215.17</td>\n",
       "      <td>221.49</td>\n",
       "      <td>162.21</td>\n",
       "    </tr>\n",
       "  </tbody>\n",
       "</table>\n",
       "<p>120 rows × 4 columns</p>\n",
       "</div>"
      ],
      "text/plain": [
       "     Laboratory 1  Laboratory 2  Laboratory 3  Laboratory 4\n",
       "0          185.35        165.53        176.70        166.13\n",
       "1          170.49        185.91        198.45        160.79\n",
       "2          192.77        194.92        201.23        185.18\n",
       "3          177.33        183.00        199.61        176.42\n",
       "4          193.41        169.57        204.63        152.60\n",
       "..            ...           ...           ...           ...\n",
       "115        178.49        170.66        193.80        172.68\n",
       "116        176.08        183.98        215.25        177.64\n",
       "117        202.48        174.54        203.99        170.27\n",
       "118        182.40        197.18        194.52        150.87\n",
       "119        182.09        215.17        221.49        162.21\n",
       "\n",
       "[120 rows x 4 columns]"
      ]
     },
     "execution_count": 18,
     "metadata": {},
     "output_type": "execute_result"
    }
   ],
   "source": [
    "#load the data\n",
    "df2=pd.read_csv('G:\\\\Data Science\\\\Assignment\\\\03\\\\labTAT.csv')\n",
    "df2.iloc[:,0:4]"
   ]
  },
  {
   "cell_type": "code",
   "execution_count": 20,
   "id": "67477c1f",
   "metadata": {},
   "outputs": [
    {
     "name": "stdout",
     "output_type": "stream",
     "text": [
      "F_onewayResult(statistic=118.70421654401437, pvalue=2.1156708949992414e-57)\n"
     ]
    }
   ],
   "source": [
    "anova=stats.f_oneway(df2.iloc[:,0],df2.iloc[:,1],df2.iloc[:,2],df2.iloc[:,3])\n",
    "print(anova)"
   ]
  },
  {
   "cell_type": "code",
   "execution_count": 21,
   "id": "a98fba6b",
   "metadata": {},
   "outputs": [
    {
     "name": "stdout",
     "output_type": "stream",
     "text": [
      "Null hypothesis rejected\n"
     ]
    }
   ],
   "source": [
    "#compare with 0.05\n",
    "if(anova[1]>0.05):\n",
    "    print('Failed to reject the H0')\n",
    "else:\n",
    "    print(\"Null hypothesis rejected\")"
   ]
  },
  {
   "cell_type": "markdown",
   "id": "931c4e73",
   "metadata": {},
   "source": [
    "# "
   ]
  },
  {
   "attachments": {},
   "cell_type": "markdown",
   "id": "832f6846",
   "metadata": {},
   "source": [
    "<h3>Problem Statment<h3>\n",
    "    <pre>Sales of products in four different regions is tabulated for males and females. Find if male-female buyer rations are similar across regions.\n",
    " <pre>\n",
    " "
   ]
  },
  {
   "cell_type": "code",
   "execution_count": 29,
   "id": "01d449f7",
   "metadata": {},
   "outputs": [
    {
     "data": {
      "text/html": [
       "<div>\n",
       "<style scoped>\n",
       "    .dataframe tbody tr th:only-of-type {\n",
       "        vertical-align: middle;\n",
       "    }\n",
       "\n",
       "    .dataframe tbody tr th {\n",
       "        vertical-align: top;\n",
       "    }\n",
       "\n",
       "    .dataframe thead th {\n",
       "        text-align: right;\n",
       "    }\n",
       "</style>\n",
       "<table border=\"1\" class=\"dataframe\">\n",
       "  <thead>\n",
       "    <tr style=\"text-align: right;\">\n",
       "      <th></th>\n",
       "      <th>Observed Values (O)</th>\n",
       "      <th>East</th>\n",
       "      <th>West</th>\n",
       "      <th>North</th>\n",
       "      <th>South</th>\n",
       "    </tr>\n",
       "  </thead>\n",
       "  <tbody>\n",
       "    <tr>\n",
       "      <th>0</th>\n",
       "      <td>Males</td>\n",
       "      <td>50</td>\n",
       "      <td>142.0</td>\n",
       "      <td>131.0</td>\n",
       "      <td>70.0</td>\n",
       "    </tr>\n",
       "    <tr>\n",
       "      <th>1</th>\n",
       "      <td>Females</td>\n",
       "      <td>435</td>\n",
       "      <td>1523.0</td>\n",
       "      <td>1356.0</td>\n",
       "      <td>750.0</td>\n",
       "    </tr>\n",
       "  </tbody>\n",
       "</table>\n",
       "</div>"
      ],
      "text/plain": [
       "  Observed Values (O) East    West   North  South\n",
       "0               Males   50   142.0   131.0   70.0\n",
       "1             Females  435  1523.0  1356.0  750.0"
      ]
     },
     "execution_count": 29,
     "metadata": {},
     "output_type": "execute_result"
    }
   ],
   "source": [
    "#load data\n",
    "df3=pd.read_csv('G:\\\\Data Science\\\\Assignment\\\\03\\\\BuyerRatio.csv')\n",
    "df3=df3.iloc[:2,0:5]# not im doing this cause i've edited in the original file and do caculation there \n",
    "df3.head()"
   ]
  },
  {
   "cell_type": "code",
   "execution_count": 30,
   "id": "ce08fb0a",
   "metadata": {},
   "outputs": [
    {
     "data": {
      "text/html": [
       "<div>\n",
       "<style scoped>\n",
       "    .dataframe tbody tr th:only-of-type {\n",
       "        vertical-align: middle;\n",
       "    }\n",
       "\n",
       "    .dataframe tbody tr th {\n",
       "        vertical-align: top;\n",
       "    }\n",
       "\n",
       "    .dataframe thead th {\n",
       "        text-align: right;\n",
       "    }\n",
       "</style>\n",
       "<table border=\"1\" class=\"dataframe\">\n",
       "  <thead>\n",
       "    <tr style=\"text-align: right;\">\n",
       "      <th></th>\n",
       "      <th>East</th>\n",
       "      <th>West</th>\n",
       "      <th>North</th>\n",
       "      <th>South</th>\n",
       "    </tr>\n",
       "  </thead>\n",
       "  <tbody>\n",
       "    <tr>\n",
       "      <th>0</th>\n",
       "      <td>50</td>\n",
       "      <td>142.0</td>\n",
       "      <td>131.0</td>\n",
       "      <td>70.0</td>\n",
       "    </tr>\n",
       "    <tr>\n",
       "      <th>1</th>\n",
       "      <td>435</td>\n",
       "      <td>1523.0</td>\n",
       "      <td>1356.0</td>\n",
       "      <td>750.0</td>\n",
       "    </tr>\n",
       "  </tbody>\n",
       "</table>\n",
       "</div>"
      ],
      "text/plain": [
       "  East    West   North  South\n",
       "0   50   142.0   131.0   70.0\n",
       "1  435  1523.0  1356.0  750.0"
      ]
     },
     "execution_count": 30,
     "metadata": {},
     "output_type": "execute_result"
    }
   ],
   "source": [
    "df_table=df3.iloc[:,1:6]\n",
    "df_table"
   ]
  },
  {
   "cell_type": "code",
   "execution_count": 41,
   "id": "211b9fff",
   "metadata": {},
   "outputs": [
    {
     "data": {
      "text/plain": [
       "array([[  50,  142,  131,   70],\n",
       "       [ 435, 1523, 1356,  750]])"
      ]
     },
     "execution_count": 41,
     "metadata": {},
     "output_type": "execute_result"
    }
   ],
   "source": [
    "# Make dimensional array for the observation\n",
    "O=np.array([[50,142,131,70],[435,1523,1356,750]])\n",
    "O"
   ]
  },
  {
   "cell_type": "code",
   "execution_count": 42,
   "id": "c8cd9170",
   "metadata": {},
   "outputs": [],
   "source": [
    "# applay chia\n",
    "val=stats.chi2_contingency(O)"
   ]
  },
  {
   "cell_type": "code",
   "execution_count": 45,
   "id": "67c45b85",
   "metadata": {},
   "outputs": [
    {
     "name": "stdout",
     "output_type": "stream",
     "text": [
      "Chi2 value is:  1.595945538661058\n",
      "P_value is:  0.6603094907091882\n",
      "Dgree of freedom FD:  3\n",
      "Expexted table for the observation:  [[  42.76531299  146.81287862  131.11756787   72.30424052]\n",
      " [ 442.23468701 1518.18712138 1355.88243213  747.69575948]]\n"
     ]
    }
   ],
   "source": [
    "print(\"Chi2 value is: \",val[0])#(Chi2 stats value, p_value, df, expected obsvations)\n",
    "print(\"P_value is: \",val[1])\n",
    "print(\"Dgree of freedom FD: \",val[2])\n",
    "print(\"Expexted table for the observation: \",val[3])"
   ]
  },
  {
   "cell_type": "markdown",
   "id": "0c7a09d8",
   "metadata": {},
   "source": [
    "<h3> Conclusion</h3>\n",
    "<h4> We observed that P-value is greater than Alph wich is 0.05 so we will to reject the Null Hypothesis<h4>\n",
    "    "
   ]
  },
  {
   "cell_type": "markdown",
   "id": "306e6deb",
   "metadata": {},
   "source": [
    "# "
   ]
  },
  {
   "attachments": {},
   "cell_type": "markdown",
   "id": "90a92c67",
   "metadata": {},
   "source": [
    "<h3>Problem Statment<h3>\n",
    "    <pre>TeleCall uses 4 centers around the globe to process customer order forms. They audit a certain %  of the customer order forms. Any error in order form renders it defective and has to be reworked before processing.  The manager wants to check whether the defective %  varies by centre. Please analyze the data at 5% significance level and help the manager draw appropriate inferences\n",
    "<pre>"
   ]
  },
  {
   "cell_type": "code",
   "execution_count": 47,
   "id": "f97c0369",
   "metadata": {},
   "outputs": [
    {
     "data": {
      "text/html": [
       "<div>\n",
       "<style scoped>\n",
       "    .dataframe tbody tr th:only-of-type {\n",
       "        vertical-align: middle;\n",
       "    }\n",
       "\n",
       "    .dataframe tbody tr th {\n",
       "        vertical-align: top;\n",
       "    }\n",
       "\n",
       "    .dataframe thead th {\n",
       "        text-align: right;\n",
       "    }\n",
       "</style>\n",
       "<table border=\"1\" class=\"dataframe\">\n",
       "  <thead>\n",
       "    <tr style=\"text-align: right;\">\n",
       "      <th></th>\n",
       "      <th>Phillippines</th>\n",
       "      <th>Indonesia</th>\n",
       "      <th>Malta</th>\n",
       "      <th>India</th>\n",
       "    </tr>\n",
       "  </thead>\n",
       "  <tbody>\n",
       "    <tr>\n",
       "      <th>0</th>\n",
       "      <td>Error Free</td>\n",
       "      <td>Error Free</td>\n",
       "      <td>Defective</td>\n",
       "      <td>Error Free</td>\n",
       "    </tr>\n",
       "    <tr>\n",
       "      <th>1</th>\n",
       "      <td>Error Free</td>\n",
       "      <td>Error Free</td>\n",
       "      <td>Error Free</td>\n",
       "      <td>Defective</td>\n",
       "    </tr>\n",
       "    <tr>\n",
       "      <th>2</th>\n",
       "      <td>Error Free</td>\n",
       "      <td>Defective</td>\n",
       "      <td>Defective</td>\n",
       "      <td>Error Free</td>\n",
       "    </tr>\n",
       "    <tr>\n",
       "      <th>3</th>\n",
       "      <td>Error Free</td>\n",
       "      <td>Error Free</td>\n",
       "      <td>Error Free</td>\n",
       "      <td>Error Free</td>\n",
       "    </tr>\n",
       "    <tr>\n",
       "      <th>4</th>\n",
       "      <td>Error Free</td>\n",
       "      <td>Error Free</td>\n",
       "      <td>Defective</td>\n",
       "      <td>Error Free</td>\n",
       "    </tr>\n",
       "  </tbody>\n",
       "</table>\n",
       "</div>"
      ],
      "text/plain": [
       "  Phillippines   Indonesia       Malta       India\n",
       "0   Error Free  Error Free   Defective  Error Free\n",
       "1   Error Free  Error Free  Error Free   Defective\n",
       "2   Error Free   Defective   Defective  Error Free\n",
       "3   Error Free  Error Free  Error Free  Error Free\n",
       "4   Error Free  Error Free   Defective  Error Free"
      ]
     },
     "execution_count": 47,
     "metadata": {},
     "output_type": "execute_result"
    }
   ],
   "source": [
    "#load the data\n",
    "df4=pd.read_csv('G:\\\\Data Science\\\\Assignment\\\\03\\\\costomer+OrderForm.csv')\n",
    "df4.head()"
   ]
  },
  {
   "cell_type": "code",
   "execution_count": 56,
   "id": "089aaa13",
   "metadata": {},
   "outputs": [],
   "source": [
    "#calculate each observ for each country -- error and Eefective\n",
    "l1=[]\n",
    "l2=[]\n",
    "def Chi(x):\n",
    "    x=x.value_counts()\n",
    "    l1.append(x[0])\n",
    "    l2.append(x[1])\n",
    "Chi(df4.Phillippines)\n",
    "Chi(df4.Indonesia)\n",
    "Chi(df4.Malta)\n",
    "Chi(df4.India)"
   ]
  },
  {
   "cell_type": "code",
   "execution_count": 59,
   "id": "73990886",
   "metadata": {},
   "outputs": [
    {
     "data": {
      "text/plain": [
       "[[271, 267, 269, 280], [29, 33, 31, 20]]"
      ]
     },
     "execution_count": 59,
     "metadata": {},
     "output_type": "execute_result"
    }
   ],
   "source": [
    "#combine the 2 list\n",
    "O=[l1,l2]\n",
    "O"
   ]
  },
  {
   "cell_type": "code",
   "execution_count": 65,
   "id": "0f7f8642",
   "metadata": {},
   "outputs": [],
   "source": [
    "# Chi2 contengency independence test\n",
    "answer=stats.chi2_contingency(O) # o/p is (Chi2 stats value, p_value, df, expected obsvations"
   ]
  },
  {
   "cell_type": "code",
   "execution_count": 66,
   "id": "29a53435",
   "metadata": {},
   "outputs": [
    {
     "name": "stdout",
     "output_type": "stream",
     "text": [
      "Chi2 value is:  3.858960685820355\n",
      "P_value is:  0.2771020991233135\n",
      "Dgree of freedom FD:  3\n",
      "Expexted table for the observation:  [[271.75 271.75 271.75 271.75]\n",
      " [ 28.25  28.25  28.25  28.25]]\n"
     ]
    }
   ],
   "source": [
    "print(\"Chi2 value is: \",answer[0])#(Chi2 stats value, p_value, df, expected obsvations)\n",
    "print(\"P_value is: \",answer[1])\n",
    "print(\"Dgree of freedom FD: \",answer[2])\n",
    "print(\"Expexted table for the observation: \",answer[3])"
   ]
  },
  {
   "cell_type": "markdown",
   "id": "7ab021c2",
   "metadata": {},
   "source": [
    "<h3>Conclusion<h3>\n",
    "    P-value is greater than Alpha 0.05 so we will Accept the Null Hypothesis"
   ]
  }
 ],
 "metadata": {
  "kernelspec": {
   "display_name": "Python 3",
   "language": "python",
   "name": "python3"
  },
  "language_info": {
   "codemirror_mode": {
    "name": "ipython",
    "version": 3
   },
   "file_extension": ".py",
   "mimetype": "text/x-python",
   "name": "python",
   "nbconvert_exporter": "python",
   "pygments_lexer": "ipython3",
   "version": "3.8.8"
  }
 },
 "nbformat": 4,
 "nbformat_minor": 5
}
